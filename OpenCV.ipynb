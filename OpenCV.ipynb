{
 "cells": [
  {
   "cell_type": "code",
   "execution_count": 1,
   "metadata": {},
   "outputs": [],
   "source": [
    "import cv2"
   ]
  },
  {
   "cell_type": "code",
   "execution_count": 2,
   "metadata": {},
   "outputs": [],
   "source": [
    "from cv2 import CascadeClassifier, imread, waitKey, destroyAllWindows, rectangle, imshow"
   ]
  },
  {
   "cell_type": "code",
   "execution_count": 3,
   "metadata": {},
   "outputs": [],
   "source": [
    "#load the pre-trained Model\n",
    "classifier = CascadeClassifier(r\"E:\\Project\\FaceDetection\\haarcascade_frontalface_default.xml\")"
   ]
  },
  {
   "cell_type": "code",
   "execution_count": 4,
   "metadata": {},
   "outputs": [],
   "source": [
    "#load the photograph\n",
    "pixels = imread(r\"E:\\Project\\FaceDetection\\test1.jpg\")"
   ]
  },
  {
   "cell_type": "code",
   "execution_count": 5,
   "metadata": {},
   "outputs": [],
   "source": [
    "#perform face detection\n",
    "bboxes = classifier.detectMultiScale(pixels, 1.05, 8)\n",
    "#print bounding box for each detected face\n",
    "for box in bboxes:\n",
    "    #extract\n",
    "    x, y, width, height = box\n",
    "    x2, y2 = x + width, y + height\n",
    "    #draw a rectangle over the pixels\n",
    "    rectangle(pixels, (x,y), (x2,y2), (0,0,255), 1)\n",
    "\n",
    "#show the images\n",
    "imshow('face detection', pixels)\n",
    "\n",
    "#keep the window open until we press a key\n",
    "waitKey(0)\n",
    "\n",
    "#Close the window\n",
    "destroyAllWindows()"
   ]
  }
 ],
 "metadata": {
  "kernelspec": {
   "display_name": "Python 3",
   "language": "python",
   "name": "python3"
  },
  "language_info": {
   "codemirror_mode": {
    "name": "ipython",
    "version": 3
   },
   "file_extension": ".py",
   "mimetype": "text/x-python",
   "name": "python",
   "nbconvert_exporter": "python",
   "pygments_lexer": "ipython3",
   "version": "3.7.3"
  }
 },
 "nbformat": 4,
 "nbformat_minor": 2
}
